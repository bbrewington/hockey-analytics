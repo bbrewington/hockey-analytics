{
 "cells": [
  {
   "cell_type": "markdown",
   "id": "expanded-nature",
   "metadata": {},
   "source": [
    "# Exploratory Data Analysis: Games\n",
    "\n",
    "## Analysis Questions\n",
    "### TO DO\n",
    "* Data Structure / Granularity\n",
    "* Scale & Basic Stats\n",
    "* Distribution\n",
    "* Correlation\n",
    "\n",
    "### DONE\n",
    "\n",
    "# Code & Data Setup"
   ]
  },
  {
   "cell_type": "code",
   "execution_count": 1,
   "id": "tribal-participant",
   "metadata": {},
   "outputs": [
    {
     "name": "stderr",
     "output_type": "stream",
     "text": [
      "── \u001b[1mAttaching packages\u001b[22m ─────────────────────────────────────── tidyverse 1.3.0 ──\n",
      "\n",
      "\u001b[32m✔\u001b[39m \u001b[34mggplot2\u001b[39m 3.3.2     \u001b[32m✔\u001b[39m \u001b[34mpurrr  \u001b[39m 0.3.4\n",
      "\u001b[32m✔\u001b[39m \u001b[34mtibble \u001b[39m 3.0.4     \u001b[32m✔\u001b[39m \u001b[34mdplyr  \u001b[39m 1.0.2\n",
      "\u001b[32m✔\u001b[39m \u001b[34mtidyr  \u001b[39m 1.1.2     \u001b[32m✔\u001b[39m \u001b[34mstringr\u001b[39m 1.4.0\n",
      "\u001b[32m✔\u001b[39m \u001b[34mreadr  \u001b[39m 1.4.0     \u001b[32m✔\u001b[39m \u001b[34mforcats\u001b[39m 0.5.0\n",
      "\n",
      "── \u001b[1mConflicts\u001b[22m ────────────────────────────────────────── tidyverse_conflicts() ──\n",
      "\u001b[31m✖\u001b[39m \u001b[34mdplyr\u001b[39m::\u001b[32mfilter()\u001b[39m masks \u001b[34mstats\u001b[39m::filter()\n",
      "\u001b[31m✖\u001b[39m \u001b[34mdplyr\u001b[39m::\u001b[32mlag()\u001b[39m    masks \u001b[34mstats\u001b[39m::lag()\n",
      "\n"
     ]
    }
   ],
   "source": [
    "library(tidyverse)\n",
    "library(bigrquery)"
   ]
  },
  {
   "cell_type": "code",
   "execution_count": 6,
   "id": "wanted-ottawa",
   "metadata": {},
   "outputs": [
    {
     "data": {
      "text/html": [
       "<style>\n",
       ".list-inline {list-style: none; margin:0; padding: 0}\n",
       ".list-inline>li {display: inline-block}\n",
       ".list-inline>li:not(:last-child)::after {content: \"\\00b7\"; padding: 0 .5ex}\n",
       "</style>\n",
       "<ol class=list-inline><li>'atl-transit-open-data'</li><li>'brentb-ga-election-2020'</li><li>'moneypuckdata-sandbox'</li><li>'sacred-dahlia-110914'</li><li>'healthy-zone-151020'</li><li>'tag-devathon-2020'</li></ol>\n"
      ],
      "text/latex": [
       "\\begin{enumerate*}\n",
       "\\item 'atl-transit-open-data'\n",
       "\\item 'brentb-ga-election-2020'\n",
       "\\item 'moneypuckdata-sandbox'\n",
       "\\item 'sacred-dahlia-110914'\n",
       "\\item 'healthy-zone-151020'\n",
       "\\item 'tag-devathon-2020'\n",
       "\\end{enumerate*}\n"
      ],
      "text/markdown": [
       "1. 'atl-transit-open-data'\n",
       "2. 'brentb-ga-election-2020'\n",
       "3. 'moneypuckdata-sandbox'\n",
       "4. 'sacred-dahlia-110914'\n",
       "5. 'healthy-zone-151020'\n",
       "6. 'tag-devathon-2020'\n",
       "\n",
       "\n"
      ],
      "text/plain": [
       "[1] \"atl-transit-open-data\"   \"brentb-ga-election-2020\"\n",
       "[3] \"moneypuckdata-sandbox\"   \"sacred-dahlia-110914\"   \n",
       "[5] \"healthy-zone-151020\"     \"tag-devathon-2020\"      "
      ]
     },
     "metadata": {},
     "output_type": "display_data"
    }
   ],
   "source": [
    "bq_auth()"
   ]
  },
  {
   "cell_type": "markdown",
   "id": "joined-sunset",
   "metadata": {},
   "source": [
    "Next step, download data from view \"GAMES_V\" - view definition is contained in file https://github.com/bbrewington/hockey-analytics/blob/main/data-moneypuck/bigquery-views/sql/games.sql\n",
    "\n",
    "(the \"DATA.GAMES\" table is combination of all years of games data here - http://moneypuck.com/data.htm - details are in data pipeline queries here: https://github.com/bbrewington/hockey-analytics/tree/main/data-moneypuck)"
   ]
  },
  {
   "cell_type": "code",
   "execution_count": 7,
   "id": "disciplinary-former",
   "metadata": {},
   "outputs": [],
   "source": [
    "games <- \n",
    "  bq_project_query('moneypuckdata-sandbox',\n",
    "                   'SELECT * FROM `moneypuckdata-sandbox.DATA.GAMES_V`') %>%\n",
    "  bq_table_download()"
   ]
  },
  {
   "cell_type": "markdown",
   "id": "chinese-providence",
   "metadata": {},
   "source": [
    "# Data Structure / Granularity\n",
    "\n",
    "Using dplyr::glimpse to see data structure - shows all variables, num rows, num columns, R data type, and values in first 15ish rows\n",
    "\n",
    "Data Granularity: season / gameId / team / situation\n",
    "* season: YYYY (year where season starts - in normal, years, the Fall)\n",
    "* gameID: YYYYNNNNNN\n",
    "  - first 4 digits identify the season of the game (ie. 2017 for the 2017-2018 season). The next 2 digits give the type of game, where 01 = preseason, 02 = regular season, 03 = playoffs, 04 = all-star. The final 4 digits identify the specific game number. For regular season and preseason games, this ranges from 0001 to the number of games played. (1271 for seasons with 31 teams (2017 and onwards) and 1230 for seasons with 30 teams). For playoff games, the 2nd digit of the specific number gives the round of the playoffs, the 3rd digit specifies the matchup, and the 4th digit specifies the game (out of 7)\n",
    "  - info from: https://gitlab.com/dword4/nhlapi/-/blob/master/stats-api.md#game-ids\n",
    "* situation"
   ]
  },
  {
   "cell_type": "code",
   "execution_count": 8,
   "id": "authorized-woman",
   "metadata": {},
   "outputs": [
    {
     "name": "stdout",
     "output_type": "stream",
     "text": [
      "Rows: 157,510\n",
      "Columns: 117\n",
      "$ team                                      \u001b[3m\u001b[38;5;246m<chr>\u001b[39m\u001b[23m \"ANA\", \"ANA\", \"ANA\", \"ANA\",…\n",
      "$ season                                    \u001b[3m\u001b[38;5;246m<int>\u001b[39m\u001b[23m 2008, 2008, 2008, 2008, 200…\n",
      "$ name                                      \u001b[3m\u001b[38;5;246m<chr>\u001b[39m\u001b[23m \"ANA\", \"ANA\", \"ANA\", \"ANA\",…\n",
      "$ gameId                                    \u001b[3m\u001b[38;5;246m<int>\u001b[39m\u001b[23m 2008020008, 2008020008, 200…\n",
      "$ playerTeam                                \u001b[3m\u001b[38;5;246m<chr>\u001b[39m\u001b[23m \"ANA\", \"ANA\", \"ANA\", \"ANA\",…\n",
      "$ opposingTeam                              \u001b[3m\u001b[38;5;246m<chr>\u001b[39m\u001b[23m \"S.J\", \"S.J\", \"S.J\", \"S.J\",…\n",
      "$ home_or_away                              \u001b[3m\u001b[38;5;246m<chr>\u001b[39m\u001b[23m \"AWAY\", \"AWAY\", \"AWAY\", \"AW…\n",
      "$ gameDate                                  \u001b[3m\u001b[38;5;246m<int>\u001b[39m\u001b[23m 20081009, 20081009, 2008100…\n",
      "$ position                                  \u001b[3m\u001b[38;5;246m<chr>\u001b[39m\u001b[23m \"Team Level\", \"Team Level\",…\n",
      "$ situation                                 \u001b[3m\u001b[38;5;246m<chr>\u001b[39m\u001b[23m \"5on4\", \"other\", \"4on5\", \"5…\n",
      "$ xGoalsPercentage                          \u001b[3m\u001b[38;5;246m<dbl>\u001b[39m\u001b[23m 1.0000, 0.4027, 0.0240, 0.3…\n",
      "$ corsiPercentage                           \u001b[3m\u001b[38;5;246m<dbl>\u001b[39m\u001b[23m 0.7778, 0.3333, 0.0476, 0.4…\n",
      "$ fenwickPercentage                         \u001b[3m\u001b[38;5;246m<dbl>\u001b[39m\u001b[23m 1.0000, 0.3333, 0.0588, 0.4…\n",
      "$ iceTime                                   \u001b[3m\u001b[38;5;246m<int>\u001b[39m\u001b[23m 240, 24, 665, 2671, 3600, 3…\n",
      "$ xOnGoalFor                                \u001b[3m\u001b[38;5;246m<dbl>\u001b[39m\u001b[23m 4.103, 0.725, 0.754, 14.604…\n",
      "$ xGoalsFor                                 \u001b[3m\u001b[38;5;246m<dbl>\u001b[39m\u001b[23m 0.033, 0.118, 0.037, 1.083,…\n",
      "$ xReboundsFor                              \u001b[3m\u001b[38;5;246m<dbl>\u001b[39m\u001b[23m 0.315, 0.044, 0.028, 0.881,…\n",
      "$ xFreezeFor                                \u001b[3m\u001b[38;5;246m<dbl>\u001b[39m\u001b[23m 0.949, 0.114, 0.127, 3.417,…\n",
      "$ xPlayStoppedFor                           \u001b[3m\u001b[38;5;246m<dbl>\u001b[39m\u001b[23m 0.130, 0.023, 0.019, 0.529,…\n",
      "$ xPlayContinuedInZoneFor                   \u001b[3m\u001b[38;5;246m<dbl>\u001b[39m\u001b[23m 2.967, 0.463, 0.216, 8.320,…\n",
      "$ xPlayContinuedOutsideZoneFor              \u001b[3m\u001b[38;5;246m<dbl>\u001b[39m\u001b[23m 1.606, 0.237, 0.574, 6.835,…\n",
      "$ flurryAdjustedxGoalsFor                   \u001b[3m\u001b[38;5;246m<dbl>\u001b[39m\u001b[23m 0.033, 0.118, 0.037, 1.046,…\n",
      "$ scoreVenueAdjustedxGoalsFor               \u001b[3m\u001b[38;5;246m<dbl>\u001b[39m\u001b[23m 0.033, 0.118, 0.037, 1.061,…\n",
      "$ flurryScoreVenueAdjustedxGoalsFor         \u001b[3m\u001b[38;5;246m<dbl>\u001b[39m\u001b[23m 0.033, 0.118, 0.037, 1.025,…\n",
      "$ shotsOnGoalFor                            \u001b[3m\u001b[38;5;246m<int>\u001b[39m\u001b[23m 5, 1, 1, 22, 29, 6, 3, 1, 2…\n",
      "$ missedShotsFor                            \u001b[3m\u001b[38;5;246m<int>\u001b[39m\u001b[23m 1, 0, 0, 0, 1, 2, 1, 3, 9, …\n",
      "$ blockedShotAttemptsFor                    \u001b[3m\u001b[38;5;246m<int>\u001b[39m\u001b[23m 1, 0, 0, 9, 10, 2, 1, 0, 5,…\n",
      "$ shotAttemptsFor                           \u001b[3m\u001b[38;5;246m<int>\u001b[39m\u001b[23m 7, 1, 1, 31, 40, 10, 5, 4, …\n",
      "$ goalsFor                                  \u001b[3m\u001b[38;5;246m<int>\u001b[39m\u001b[23m 0, 0, 0, 1, 1, 0, 0, 0, 2, …\n",
      "$ reboundsFor                               \u001b[3m\u001b[38;5;246m<int>\u001b[39m\u001b[23m 0, 0, 0, 2, 2, 0, 0, 0, 0, …\n",
      "$ reboundGoalsFor                           \u001b[3m\u001b[38;5;246m<int>\u001b[39m\u001b[23m 0, 0, 0, 0, 0, 0, 0, 0, 0, …\n",
      "$ freezeFor                                 \u001b[3m\u001b[38;5;246m<int>\u001b[39m\u001b[23m 2, 0, 0, 8, 10, 2, 0, 1, 8,…\n",
      "$ playStoppedFor                            \u001b[3m\u001b[38;5;246m<int>\u001b[39m\u001b[23m 0, 0, 0, 0, 0, 0, 1, 0, 1, …\n",
      "$ playContinuedInZoneFor                    \u001b[3m\u001b[38;5;246m<int>\u001b[39m\u001b[23m 3, 1, 0, 6, 10, 1, 2, 0, 11…\n",
      "$ playContinuedOutsideZoneFor               \u001b[3m\u001b[38;5;246m<int>\u001b[39m\u001b[23m 1, 0, 1, 5, 7, 5, 1, 3, 12,…\n",
      "$ savedShotsOnGoalFor                       \u001b[3m\u001b[38;5;246m<int>\u001b[39m\u001b[23m 5, 1, 1, 21, 28, 6, 3, 1, 2…\n",
      "$ savedUnblockedShotAttemptsFor             \u001b[3m\u001b[38;5;246m<int>\u001b[39m\u001b[23m 6, 1, 1, 21, 29, 8, 4, 4, 3…\n",
      "$ penaltiesFor                              \u001b[3m\u001b[38;5;246m<int>\u001b[39m\u001b[23m 0, 0, 1, 6, 7, 1, 3, 0, 7, …\n",
      "$ penalityMinutesFor                        \u001b[3m\u001b[38;5;246m<int>\u001b[39m\u001b[23m 0, 0, 2, 12, 14, 2, 9, 0, 1…\n",
      "$ faceOffsWonFor                            \u001b[3m\u001b[38;5;246m<int>\u001b[39m\u001b[23m 0, 0, 6, 19, 25, 4, 3, 7, 2…\n",
      "$ hitsFor                                   \u001b[3m\u001b[38;5;246m<int>\u001b[39m\u001b[23m 1, 0, 1, 12, 14, 1, 0, 3, 2…\n",
      "$ takeawaysFor                              \u001b[3m\u001b[38;5;246m<int>\u001b[39m\u001b[23m 0, 0, 0, 4, 4, 0, 0, 0, 6, …\n",
      "$ giveawaysFor                              \u001b[3m\u001b[38;5;246m<int>\u001b[39m\u001b[23m 0, 0, 1, 0, 1, 1, 1, 1, 10,…\n",
      "$ lowDangerShotsFor                         \u001b[3m\u001b[38;5;246m<int>\u001b[39m\u001b[23m 6, 0, 1, 19, 26, 6, 2, 3, 3…\n",
      "$ mediumDangerShotsFor                      \u001b[3m\u001b[38;5;246m<int>\u001b[39m\u001b[23m 0, 1, 0, 3, 4, 2, 2, 1, 4, …\n",
      "$ highDangerShotsFor                        \u001b[3m\u001b[38;5;246m<int>\u001b[39m\u001b[23m 0, 0, 0, 0, 0, 0, 0, 0, 0, …\n",
      "$ lowDangerxGoalsFor                        \u001b[3m\u001b[38;5;246m<dbl>\u001b[39m\u001b[23m 0.033, 0.000, 0.037, 0.579,…\n",
      "$ mediumDangerxGoalsFor                     \u001b[3m\u001b[38;5;246m<dbl>\u001b[39m\u001b[23m 0.000, 0.118, 0.000, 0.503,…\n",
      "$ highDangerxGoalsFor                       \u001b[3m\u001b[38;5;246m<dbl>\u001b[39m\u001b[23m 0.000, 0.000, 0.000, 0.000,…\n",
      "$ lowDangerGoalsFor                         \u001b[3m\u001b[38;5;246m<int>\u001b[39m\u001b[23m 0, 0, 0, 1, 1, 0, 0, 0, 2, …\n",
      "$ mediumDangerGoalsFor                      \u001b[3m\u001b[38;5;246m<int>\u001b[39m\u001b[23m 0, 0, 0, 0, 0, 0, 0, 0, 0, …\n",
      "$ highDangerGoalsFor                        \u001b[3m\u001b[38;5;246m<int>\u001b[39m\u001b[23m 0, 0, 0, 0, 0, 0, 0, 0, 0, …\n",
      "$ scoreAdjustedShotsAttemptsFor             \u001b[3m\u001b[38;5;246m<dbl>\u001b[39m\u001b[23m 7.000, 1.000, 1.000, 29.441…\n",
      "$ unblockedShotAttemptsFor                  \u001b[3m\u001b[38;5;246m<int>\u001b[39m\u001b[23m 6, 1, 1, 22, 30, 8, 4, 4, 3…\n",
      "$ scoreAdjustedUnblockedShotAttemptsFor     \u001b[3m\u001b[38;5;246m<dbl>\u001b[39m\u001b[23m 6.000, 1.000, 1.000, 21.452…\n",
      "$ dZoneGiveawaysFor                         \u001b[3m\u001b[38;5;246m<int>\u001b[39m\u001b[23m 0, 0, 0, 0, 0, 0, 1, 1, 4, …\n",
      "$ xGoalsFromxReboundsOfShotsFor             \u001b[3m\u001b[38;5;246m<dbl>\u001b[39m\u001b[23m 0.078, 0.015, 0.006, 0.179,…\n",
      "$ xGoalsFromActualReboundsOfShotsFor        \u001b[3m\u001b[38;5;246m<dbl>\u001b[39m\u001b[23m 0.000, 0.000, 0.000, 0.230,…\n",
      "$ reboundxGoalsFor                          \u001b[3m\u001b[38;5;246m<dbl>\u001b[39m\u001b[23m 0.000, 0.000, 0.000, 0.230,…\n",
      "$ totalShotCreditFor                        \u001b[3m\u001b[38;5;246m<dbl>\u001b[39m\u001b[23m 0.111, 0.133, 0.043, 0.967,…\n",
      "$ scoreAdjustedTotalShotCreditFor           \u001b[3m\u001b[38;5;246m<dbl>\u001b[39m\u001b[23m 0.111, 0.133, 0.043, 0.953,…\n",
      "$ scoreFlurryAdjustedTotalShotCreditFor     \u001b[3m\u001b[38;5;246m<dbl>\u001b[39m\u001b[23m 0.111, 0.133, 0.043, 0.926,…\n",
      "$ xOnGoalAgainst                            \u001b[3m\u001b[38;5;246m<dbl>\u001b[39m\u001b[23m 0.000, 1.326, 11.620, 21.51…\n",
      "$ xGoalsAgainst                             \u001b[3m\u001b[38;5;246m<dbl>\u001b[39m\u001b[23m 0.000, 0.175, 1.507, 1.945,…\n",
      "$ xReboundsAgainst                          \u001b[3m\u001b[38;5;246m<dbl>\u001b[39m\u001b[23m 0.000, 0.136, 1.104, 1.636,…\n",
      "$ xFreezeAgainst                            \u001b[3m\u001b[38;5;246m<dbl>\u001b[39m\u001b[23m 0.000, 0.261, 2.381, 4.923,…\n",
      "$ xPlayStoppedAgainst                       \u001b[3m\u001b[38;5;246m<dbl>\u001b[39m\u001b[23m 0.000, 0.043, 0.378, 0.691,…\n",
      "$ xPlayContinuedInZoneAgainst               \u001b[3m\u001b[38;5;246m<dbl>\u001b[39m\u001b[23m 0.000, 0.803, 6.806, 12.438…\n",
      "$ xPlayContinuedOutsideZoneAgainst          \u001b[3m\u001b[38;5;246m<dbl>\u001b[39m\u001b[23m 0.000, 0.581, 3.825, 8.366,…\n",
      "$ flurryAdjustedxGoalsAgainst               \u001b[3m\u001b[38;5;246m<dbl>\u001b[39m\u001b[23m 0.000, 0.147, 1.295, 1.928,…\n",
      "$ scoreVenueAdjustedxGoalsAgainst           \u001b[3m\u001b[38;5;246m<dbl>\u001b[39m\u001b[23m 0.000, 0.175, 1.507, 1.960,…\n",
      "$ flurryScoreVenueAdjustedxGoalsAgainst     \u001b[3m\u001b[38;5;246m<dbl>\u001b[39m\u001b[23m 0.000, 0.147, 1.295, 1.943,…\n",
      "$ shotsOnGoalAgainst                        \u001b[3m\u001b[38;5;246m<int>\u001b[39m\u001b[23m 0, 2, 15, 24, 41, 0, 2, 7, …\n",
      "$ missedShotsAgainst                        \u001b[3m\u001b[38;5;246m<int>\u001b[39m\u001b[23m 0, 0, 1, 6, 7, 1, 1, 2, 4, …\n",
      "$ blockedShotAttemptsAgainst                \u001b[3m\u001b[38;5;246m<int>\u001b[39m\u001b[23m 2, 0, 4, 9, 15, 0, 0, 2, 5,…\n",
      "$ shotAttemptsAgainst                       \u001b[3m\u001b[38;5;246m<int>\u001b[39m\u001b[23m 2, 2, 20, 39, 63, 1, 3, 11,…\n",
      "$ goalsAgainst                              \u001b[3m\u001b[38;5;246m<int>\u001b[39m\u001b[23m 0, 0, 2, 2, 4, 0, 1, 1, 2, …\n",
      "$ reboundsAgainst                           \u001b[3m\u001b[38;5;246m<int>\u001b[39m\u001b[23m 0, 0, 1, 2, 3, 0, 0, 2, 1, …\n",
      "$ reboundGoalsAgainst                       \u001b[3m\u001b[38;5;246m<int>\u001b[39m\u001b[23m 0, 0, 0, 1, 1, 0, 0, 1, 1, …\n",
      "$ freezeAgainst                             \u001b[3m\u001b[38;5;246m<int>\u001b[39m\u001b[23m 0, 0, 3, 3, 6, 0, 1, 1, 2, …\n",
      "$ playStoppedAgainst                        \u001b[3m\u001b[38;5;246m<int>\u001b[39m\u001b[23m 0, 0, 0, 0, 0, 0, 0, 0, 0, …\n",
      "$ playContinuedInZoneAgainst                \u001b[3m\u001b[38;5;246m<int>\u001b[39m\u001b[23m 0, 1, 4, 8, 13, 0, 0, 3, 6,…\n",
      "$ playContinuedOutsideZoneAgainst           \u001b[3m\u001b[38;5;246m<int>\u001b[39m\u001b[23m 0, 1, 6, 15, 22, 1, 1, 2, 8…\n",
      "$ savedShotsOnGoalAgainst                   \u001b[3m\u001b[38;5;246m<int>\u001b[39m\u001b[23m 0, 2, 13, 22, 37, 0, 1, 6, …\n",
      "$ savedUnblockedShotAttemptsAgainst         \u001b[3m\u001b[38;5;246m<int>\u001b[39m\u001b[23m 0, 2, 14, 28, 44, 1, 2, 8, …\n",
      "$ penaltiesAgainst                          \u001b[3m\u001b[38;5;246m<int>\u001b[39m\u001b[23m 0, 0, 0, 2, 2, 1, 1, 0, 6, …\n",
      "$ penalityMinutesAgainst                    \u001b[3m\u001b[38;5;246m<int>\u001b[39m\u001b[23m 0, 0, 0, 4, 4, 2, 5, 0, 15,…\n",
      "$ faceOffsWonAgainst                        \u001b[3m\u001b[38;5;246m<int>\u001b[39m\u001b[23m 6, 1, 7, 21, 35, 0, 2, 4, 1…\n",
      "$ hitsAgainst                               \u001b[3m\u001b[38;5;246m<int>\u001b[39m\u001b[23m 1, 0, 1, 21, 23, 1, 0, 0, 1…\n",
      "$ takeawaysAgainst                          \u001b[3m\u001b[38;5;246m<int>\u001b[39m\u001b[23m 0, 0, 0, 6, 6, 2, 0, 1, 6, …\n",
      "$ giveawaysAgainst                          \u001b[3m\u001b[38;5;246m<int>\u001b[39m\u001b[23m 0, 0, 1, 7, 8, 0, 0, 0, 5, …\n",
      "$ lowDangerShotsAgainst                     \u001b[3m\u001b[38;5;246m<int>\u001b[39m\u001b[23m 0, 1, 9, 22, 32, 1, 2, 8, 1…\n",
      "$ mediumDangerShotsAgainst                  \u001b[3m\u001b[38;5;246m<int>\u001b[39m\u001b[23m 0, 1, 6, 5, 12, 0, 0, 0, 3,…\n",
      "$ highDangerShotsAgainst                    \u001b[3m\u001b[38;5;246m<int>\u001b[39m\u001b[23m 0, 0, 1, 3, 4, 0, 1, 1, 0, …\n",
      "$ lowDangerxGoalsAgainst                    \u001b[3m\u001b[38;5;246m<dbl>\u001b[39m\u001b[23m 0.000, 0.074, 0.460, 0.632,…\n",
      "$ mediumDangerxGoalsAgainst                 \u001b[3m\u001b[38;5;246m<dbl>\u001b[39m\u001b[23m 0.000, 0.101, 0.726, 0.529,…\n",
      "$ highDangerxGoalsAgainst                   \u001b[3m\u001b[38;5;246m<dbl>\u001b[39m\u001b[23m 0.000, 0.000, 0.320, 0.784,…\n",
      "$ lowDangerGoalsAgainst                     \u001b[3m\u001b[38;5;246m<int>\u001b[39m\u001b[23m 0, 0, 1, 0, 1, 0, 0, 0, 0, …\n",
      "$ mediumDangerGoalsAgainst                  \u001b[3m\u001b[38;5;246m<int>\u001b[39m\u001b[23m 0, 0, 1, 0, 1, 0, 0, 0, 2, …\n",
      "$ highDangerGoalsAgainst                    \u001b[3m\u001b[38;5;246m<int>\u001b[39m\u001b[23m 0, 0, 0, 2, 2, 0, 1, 1, 0, …\n",
      "$ scoreAdjustedShotsAttemptsAgainst         \u001b[3m\u001b[38;5;246m<dbl>\u001b[39m\u001b[23m 2.000, 2.000, 20.000, 40.27…\n",
      "$ unblockedShotAttemptsAgainst              \u001b[3m\u001b[38;5;246m<int>\u001b[39m\u001b[23m 0, 2, 16, 30, 48, 1, 3, 9, …\n",
      "$ scoreAdjustedUnblockedShotAttemptsAgainst \u001b[3m\u001b[38;5;246m<dbl>\u001b[39m\u001b[23m 0.000, 2.000, 16.000, 30.39…\n",
      "$ dZoneGiveawaysAgainst                     \u001b[3m\u001b[38;5;246m<int>\u001b[39m\u001b[23m 0, 0, 0, 4, 4, 0, 0, 0, 1, …\n",
      "$ xGoalsFromxReboundsOfShotsAgainst         \u001b[3m\u001b[38;5;246m<dbl>\u001b[39m\u001b[23m 0.000, 0.045, 0.276, 0.338,…\n",
      "$ xGoalsFromActualReboundsOfShotsAgainst    \u001b[3m\u001b[38;5;246m<dbl>\u001b[39m\u001b[23m 0.000, 0.000, 0.320, 0.345,…\n",
      "$ reboundxGoalsAgainst                      \u001b[3m\u001b[38;5;246m<dbl>\u001b[39m\u001b[23m 0.000, 0.000, 0.320, 0.345,…\n",
      "$ totalShotCreditAgainst                    \u001b[3m\u001b[38;5;246m<dbl>\u001b[39m\u001b[23m 0.000, 0.220, 1.462, 1.938,…\n",
      "$ scoreAdjustedTotalShotCreditAgainst       \u001b[3m\u001b[38;5;246m<dbl>\u001b[39m\u001b[23m 0.000, 0.220, 1.462, 1.951,…\n",
      "$ scoreFlurryAdjustedTotalShotCreditAgainst \u001b[3m\u001b[38;5;246m<dbl>\u001b[39m\u001b[23m 0.000, 0.185, 1.303, 1.940,…\n",
      "$ playoffGame                               \u001b[3m\u001b[38;5;246m<int>\u001b[39m\u001b[23m 0, 0, 0, 0, 0, 0, 0, 0, 0, …\n",
      "$ gameOutcome                               \u001b[3m\u001b[38;5;246m<chr>\u001b[39m\u001b[23m NA, NA, NA, NA, \"Loss\", NA,…\n",
      "$ gameType                                  \u001b[3m\u001b[38;5;246m<chr>\u001b[39m\u001b[23m \"02\", \"02\", \"02\", \"02\", \"02…\n",
      "$ gameNumber                                \u001b[3m\u001b[38;5;246m<chr>\u001b[39m\u001b[23m \"0008\", \"0008\", \"0008\", \"00…\n",
      "$ PlayoffRound                              \u001b[3m\u001b[38;5;246m<chr>\u001b[39m\u001b[23m NA, NA, NA, NA, NA, NA, NA,…\n",
      "$ PlayoffMatchup                            \u001b[3m\u001b[38;5;246m<chr>\u001b[39m\u001b[23m NA, NA, NA, NA, NA, NA, NA,…\n",
      "$ PlayoffGameInSeries                       \u001b[3m\u001b[38;5;246m<chr>\u001b[39m\u001b[23m NA, NA, NA, NA, NA, NA, NA,…\n"
     ]
    }
   ],
   "source": [
    "glimpse(games)"
   ]
  }
 ],
 "metadata": {
  "kernelspec": {
   "display_name": "R",
   "language": "R",
   "name": "ir"
  },
  "language_info": {
   "codemirror_mode": "r",
   "file_extension": ".r",
   "mimetype": "text/x-r-source",
   "name": "R",
   "pygments_lexer": "r",
   "version": "4.0.3"
  }
 },
 "nbformat": 4,
 "nbformat_minor": 5
}
