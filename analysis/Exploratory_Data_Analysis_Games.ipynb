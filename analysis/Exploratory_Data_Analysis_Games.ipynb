{
 "cells": [
  {
   "cell_type": "markdown",
   "id": "residential-original",
   "metadata": {},
   "source": [
    "# Exploratory Data Analysis: Games\n",
    "\n",
    "## Analysis Questions\n",
    "### TO DO\n",
    "* Data Structure / Granularity\n",
    "* Scale & Basic Stats\n",
    "* Distribution\n",
    "* Correlation\n",
    "\n",
    "### DONE\n",
    "\n",
    "# Code & Data Setup"
   ]
  },
  {
   "cell_type": "code",
   "execution_count": 1,
   "id": "parallel-danger",
   "metadata": {},
   "outputs": [
    {
     "name": "stderr",
     "output_type": "stream",
     "text": [
      "── \u001b[1mAttaching packages\u001b[22m ─────────────────────────────────────── tidyverse 1.3.0 ──\n",
      "\n",
      "\u001b[32m✔\u001b[39m \u001b[34mggplot2\u001b[39m 3.3.2     \u001b[32m✔\u001b[39m \u001b[34mpurrr  \u001b[39m 0.3.4\n",
      "\u001b[32m✔\u001b[39m \u001b[34mtibble \u001b[39m 3.0.4     \u001b[32m✔\u001b[39m \u001b[34mdplyr  \u001b[39m 1.0.2\n",
      "\u001b[32m✔\u001b[39m \u001b[34mtidyr  \u001b[39m 1.1.2     \u001b[32m✔\u001b[39m \u001b[34mstringr\u001b[39m 1.4.0\n",
      "\u001b[32m✔\u001b[39m \u001b[34mreadr  \u001b[39m 1.4.0     \u001b[32m✔\u001b[39m \u001b[34mforcats\u001b[39m 0.5.0\n",
      "\n",
      "── \u001b[1mConflicts\u001b[22m ────────────────────────────────────────── tidyverse_conflicts() ──\n",
      "\u001b[31m✖\u001b[39m \u001b[34mdplyr\u001b[39m::\u001b[32mfilter()\u001b[39m masks \u001b[34mstats\u001b[39m::filter()\n",
      "\u001b[31m✖\u001b[39m \u001b[34mdplyr\u001b[39m::\u001b[32mlag()\u001b[39m    masks \u001b[34mstats\u001b[39m::lag()\n",
      "\n"
     ]
    }
   ],
   "source": [
    "library(tidyverse)"
   ]
  },
  {
   "cell_type": "code",
   "execution_count": 2,
   "id": "comic-crawford",
   "metadata": {},
   "outputs": [
    {
     "name": "stderr",
     "output_type": "stream",
     "text": [
      "\n",
      "\u001b[36m──\u001b[39m \u001b[1m\u001b[1mColumn specification\u001b[1m\u001b[22m \u001b[36m────────────────────────────────────────────────────────\u001b[39m\n",
      "cols(\n",
      "  .default = col_double(),\n",
      "  team = \u001b[31mcol_character()\u001b[39m,\n",
      "  name = \u001b[31mcol_character()\u001b[39m,\n",
      "  playerTeam = \u001b[31mcol_character()\u001b[39m,\n",
      "  opposingTeam = \u001b[31mcol_character()\u001b[39m,\n",
      "  home_or_away = \u001b[31mcol_character()\u001b[39m,\n",
      "  position = \u001b[31mcol_character()\u001b[39m,\n",
      "  situation = \u001b[31mcol_character()\u001b[39m\n",
      ")\n",
      "\u001b[36mℹ\u001b[39m Use \u001b[30m\u001b[47m\u001b[30m\u001b[47m`spec()`\u001b[47m\u001b[30m\u001b[49m\u001b[39m for the full column specifications.\n",
      "\n",
      "\n"
     ]
    }
   ],
   "source": [
    "games <- read_csv(\"data-moneypuck/games.csv\")"
   ]
  },
  {
   "cell_type": "markdown",
   "id": "conceptual-situation",
   "metadata": {},
   "source": [
    "# Data Structure / Granularity\n",
    "\n",
    "Using dplyr::glimpse to see data structure - shows all variables, num rows, num columns, R data type, and values in first 15ish rows\n",
    "\n",
    "Data Granularity: season / gameId / team / situation\n",
    "* season: YYYY (year where season starts - in normal, years, the Fall)\n",
    "* gameID: YYYYNNNNNN\n",
    "  - first 4 digits identify the season of the game (ie. 2017 for the 2017-2018 season). The next 2 digits give the type of game, where 01 = preseason, 02 = regular season, 03 = playoffs, 04 = all-star. The final 4 digits identify the specific game number. For regular season and preseason games, this ranges from 0001 to the number of games played. (1271 for seasons with 31 teams (2017 and onwards) and 1230 for seasons with 30 teams). For playoff games, the 2nd digit of the specific number gives the round of the playoffs, the 3rd digit specifies the matchup, and the 4th digit specifies the game (out of 7)\n",
    "  - info from: https://gitlab.com/dword4/nhlapi/-/blob/master/stats-api.md#game-ids\n",
    "* situation"
   ]
  },
  {
   "cell_type": "code",
   "execution_count": 4,
   "id": "polar-bernard",
   "metadata": {},
   "outputs": [
    {
     "name": "stdout",
     "output_type": "stream",
     "text": [
      "Rows: 157,510\n",
      "Columns: 111\n",
      "$ team                                      \u001b[3m\u001b[38;5;246m<chr>\u001b[39m\u001b[23m \"NYR\", \"NYR\", \"NYR\", \"NYR\",…\n",
      "$ season                                    \u001b[3m\u001b[38;5;246m<dbl>\u001b[39m\u001b[23m 2008, 2008, 2008, 2008, 200…\n",
      "$ name                                      \u001b[3m\u001b[38;5;246m<chr>\u001b[39m\u001b[23m \"NYR\", \"NYR\", \"NYR\", \"NYR\",…\n",
      "$ gameId                                    \u001b[3m\u001b[38;5;246m<dbl>\u001b[39m\u001b[23m 2008020001, 2008020001, 200…\n",
      "$ playerTeam                                \u001b[3m\u001b[38;5;246m<chr>\u001b[39m\u001b[23m \"NYR\", \"NYR\", \"NYR\", \"NYR\",…\n",
      "$ opposingTeam                              \u001b[3m\u001b[38;5;246m<chr>\u001b[39m\u001b[23m \"T.B\", \"T.B\", \"T.B\", \"T.B\",…\n",
      "$ home_or_away                              \u001b[3m\u001b[38;5;246m<chr>\u001b[39m\u001b[23m \"AWAY\", \"AWAY\", \"AWAY\", \"AW…\n",
      "$ gameDate                                  \u001b[3m\u001b[38;5;246m<dbl>\u001b[39m\u001b[23m 20081004, 20081004, 2008100…\n",
      "$ position                                  \u001b[3m\u001b[38;5;246m<chr>\u001b[39m\u001b[23m \"Team Level\", \"Team Level\",…\n",
      "$ situation                                 \u001b[3m\u001b[38;5;246m<chr>\u001b[39m\u001b[23m \"other\", \"all\", \"5on5\", \"4o…\n",
      "$ xGoalsPercentage                          \u001b[3m\u001b[38;5;246m<dbl>\u001b[39m\u001b[23m 0.0000, 0.4596, 0.4857, 0.0…\n",
      "$ corsiPercentage                           \u001b[3m\u001b[38;5;246m<dbl>\u001b[39m\u001b[23m 0.0000, 0.6408, 0.6429, 0.0…\n",
      "$ fenwickPercentage                         \u001b[3m\u001b[38;5;246m<dbl>\u001b[39m\u001b[23m 0.0000, 0.6310, 0.6364, 0.1…\n",
      "$ iceTime                                   \u001b[3m\u001b[38;5;246m<dbl>\u001b[39m\u001b[23m 42, 3600, 2283, 468, 807, 1…\n",
      "$ xOnGoalFor                                \u001b[3m\u001b[38;5;246m<dbl>\u001b[39m\u001b[23m 0.000, 37.733, 24.802, 0.64…\n",
      "$ xGoalsFor                                 \u001b[3m\u001b[38;5;246m<dbl>\u001b[39m\u001b[23m 0.000, 2.287, 1.693, 0.034,…\n",
      "$ xReboundsFor                              \u001b[3m\u001b[38;5;246m<dbl>\u001b[39m\u001b[23m 0.000, 2.842, 1.724, 0.022,…\n",
      "$ xFreezeFor                                \u001b[3m\u001b[38;5;246m<dbl>\u001b[39m\u001b[23m 0.000, 8.155, 5.513, 0.096,…\n",
      "$ xPlayStoppedFor                           \u001b[3m\u001b[38;5;246m<dbl>\u001b[39m\u001b[23m 0.000, 1.134, 0.739, 0.021,…\n",
      "$ xPlayContinuedInZoneFor                   \u001b[3m\u001b[38;5;246m<dbl>\u001b[39m\u001b[23m 0.000, 22.530, 14.650, 0.23…\n",
      "$ xPlayContinuedOutsideZoneFor              \u001b[3m\u001b[38;5;246m<dbl>\u001b[39m\u001b[23m 0.000, 16.054, 10.681, 0.59…\n",
      "$ flurryAdjustedxGoalsFor                   \u001b[3m\u001b[38;5;246m<dbl>\u001b[39m\u001b[23m 0.000, 2.249, 1.656, 0.034,…\n",
      "$ scoreVenueAdjustedxGoalsFor               \u001b[3m\u001b[38;5;246m<dbl>\u001b[39m\u001b[23m 0.000, 2.396, 1.803, 0.034,…\n",
      "$ flurryScoreVenueAdjustedxGoalsFor         \u001b[3m\u001b[38;5;246m<dbl>\u001b[39m\u001b[23m 0.000, 2.357, 1.764, 0.034,…\n",
      "$ shotsOnGoalFor                            \u001b[3m\u001b[38;5;246m<dbl>\u001b[39m\u001b[23m 0, 41, 28, 1, 12, 4, 39, 26…\n",
      "$ missedShotsFor                            \u001b[3m\u001b[38;5;246m<dbl>\u001b[39m\u001b[23m 0, 12, 7, 0, 5, 0, 13, 11, …\n",
      "$ blockedShotAttemptsFor                    \u001b[3m\u001b[38;5;246m<dbl>\u001b[39m\u001b[23m 0, 13, 10, 0, 3, 1, 20, 14,…\n",
      "$ shotAttemptsFor                           \u001b[3m\u001b[38;5;246m<dbl>\u001b[39m\u001b[23m 0, 66, 45, 1, 20, 5, 72, 51…\n",
      "$ goalsFor                                  \u001b[3m\u001b[38;5;246m<dbl>\u001b[39m\u001b[23m 0, 2, 1, 0, 1, 0, 2, 1, 0, …\n",
      "$ reboundsFor                               \u001b[3m\u001b[38;5;246m<dbl>\u001b[39m\u001b[23m 0, 1, 0, 0, 1, 0, 1, 1, 0, …\n",
      "$ reboundGoalsFor                           \u001b[3m\u001b[38;5;246m<dbl>\u001b[39m\u001b[23m 0, 0, 0, 0, 0, 0, 0, 0, 0, …\n",
      "$ freezeFor                                 \u001b[3m\u001b[38;5;246m<dbl>\u001b[39m\u001b[23m 0, 14, 10, 1, 3, 1, 3, 2, 0…\n",
      "$ playStoppedFor                            \u001b[3m\u001b[38;5;246m<dbl>\u001b[39m\u001b[23m 0, 2, 1, 0, 1, 0, 2, 1, 0, …\n",
      "$ playContinuedInZoneFor                    \u001b[3m\u001b[38;5;246m<dbl>\u001b[39m\u001b[23m 0, 18, 14, 0, 4, 2, 19, 12,…\n",
      "$ playContinuedOutsideZoneFor               \u001b[3m\u001b[38;5;246m<dbl>\u001b[39m\u001b[23m 0, 16, 9, 0, 7, 1, 25, 20, …\n",
      "$ savedShotsOnGoalFor                       \u001b[3m\u001b[38;5;246m<dbl>\u001b[39m\u001b[23m 0, 39, 27, 1, 11, 4, 37, 25…\n",
      "$ savedUnblockedShotAttemptsFor             \u001b[3m\u001b[38;5;246m<dbl>\u001b[39m\u001b[23m 0, 51, 34, 1, 16, 4, 50, 36…\n",
      "$ penaltiesFor                              \u001b[3m\u001b[38;5;246m<dbl>\u001b[39m\u001b[23m 0, 4, 3, 0, 1, 0, 6, 5, 0, …\n",
      "$ penalityMinutesFor                        \u001b[3m\u001b[38;5;246m<dbl>\u001b[39m\u001b[23m 0, 8, 6, 0, 2, 0, 15, 13, 0…\n",
      "$ faceOffsWonFor                            \u001b[3m\u001b[38;5;246m<dbl>\u001b[39m\u001b[23m 0, 30, 19, 5, 6, 2, 17, 10,…\n",
      "$ hitsFor                                   \u001b[3m\u001b[38;5;246m<dbl>\u001b[39m\u001b[23m 0, 16, 13, 3, 0, 0, 10, 9, …\n",
      "$ takeawaysFor                              \u001b[3m\u001b[38;5;246m<dbl>\u001b[39m\u001b[23m 0, 19, 13, 5, 1, 0, 12, 9, …\n",
      "$ giveawaysFor                              \u001b[3m\u001b[38;5;246m<dbl>\u001b[39m\u001b[23m 0, 8, 7, 0, 1, 0, 11, 10, 1…\n",
      "$ lowDangerShotsFor                         \u001b[3m\u001b[38;5;246m<dbl>\u001b[39m\u001b[23m 0, 44, 27, 1, 16, 4, 47, 35…\n",
      "$ mediumDangerShotsFor                      \u001b[3m\u001b[38;5;246m<dbl>\u001b[39m\u001b[23m 0, 8, 8, 0, 0, 0, 5, 2, 0, …\n",
      "$ highDangerShotsFor                        \u001b[3m\u001b[38;5;246m<dbl>\u001b[39m\u001b[23m 0, 1, 0, 0, 1, 0, 0, 0, 0, …\n",
      "$ lowDangerxGoalsFor                        \u001b[3m\u001b[38;5;246m<dbl>\u001b[39m\u001b[23m 0.000, 1.040, 0.882, 0.034,…\n",
      "$ mediumDangerxGoalsFor                     \u001b[3m\u001b[38;5;246m<dbl>\u001b[39m\u001b[23m 0.000, 0.811, 0.811, 0.000,…\n",
      "$ highDangerxGoalsFor                       \u001b[3m\u001b[38;5;246m<dbl>\u001b[39m\u001b[23m 0.000, 0.435, 0.000, 0.000,…\n",
      "$ lowDangerGoalsFor                         \u001b[3m\u001b[38;5;246m<dbl>\u001b[39m\u001b[23m 0, 1, 1, 0, 0, 0, 0, 0, 0, …\n",
      "$ mediumDangerGoalsFor                      \u001b[3m\u001b[38;5;246m<dbl>\u001b[39m\u001b[23m 0, 0, 0, 0, 0, 0, 2, 1, 0, …\n",
      "$ highDangerGoalsFor                        \u001b[3m\u001b[38;5;246m<dbl>\u001b[39m\u001b[23m 0, 1, 0, 0, 1, 0, 0, 0, 0, …\n",
      "$ scoreAdjustedShotsAttemptsFor             \u001b[3m\u001b[38;5;246m<dbl>\u001b[39m\u001b[23m 0.000, 68.292, 47.292, 1.00…\n",
      "$ unblockedShotAttemptsFor                  \u001b[3m\u001b[38;5;246m<dbl>\u001b[39m\u001b[23m 0, 53, 35, 1, 17, 4, 52, 37…\n",
      "$ scoreAdjustedUnblockedShotAttemptsFor     \u001b[3m\u001b[38;5;246m<dbl>\u001b[39m\u001b[23m 0.000, 54.697, 36.697, 1.00…\n",
      "$ dZoneGiveawaysFor                         \u001b[3m\u001b[38;5;246m<dbl>\u001b[39m\u001b[23m 0, 4, 4, 0, 0, 0, 7, 6, 1, …\n",
      "$ xGoalsFromxReboundsOfShotsFor             \u001b[3m\u001b[38;5;246m<dbl>\u001b[39m\u001b[23m 0.000, 0.641, 0.355, 0.007,…\n",
      "$ xGoalsFromActualReboundsOfShotsFor        \u001b[3m\u001b[38;5;246m<dbl>\u001b[39m\u001b[23m 0.000, 0.014, 0.000, 0.000,…\n",
      "$ reboundxGoalsFor                          \u001b[3m\u001b[38;5;246m<dbl>\u001b[39m\u001b[23m 0.000, 0.029, 0.000, 0.000,…\n",
      "$ totalShotCreditFor                        \u001b[3m\u001b[38;5;246m<dbl>\u001b[39m\u001b[23m 0.000, 2.899, 2.048, 0.041,…\n",
      "$ scoreAdjustedTotalShotCreditFor           \u001b[3m\u001b[38;5;246m<dbl>\u001b[39m\u001b[23m 0.000, 3.030, 2.180, 0.041,…\n",
      "$ scoreFlurryAdjustedTotalShotCreditFor     \u001b[3m\u001b[38;5;246m<dbl>\u001b[39m\u001b[23m 0.000, 2.980, 2.130, 0.041,…\n",
      "$ xOnGoalAgainst                            \u001b[3m\u001b[38;5;246m<dbl>\u001b[39m\u001b[23m 0.689, 22.880, 14.729, 6.59…\n",
      "$ xGoalsAgainst                             \u001b[3m\u001b[38;5;246m<dbl>\u001b[39m\u001b[23m 0.019, 2.689, 1.793, 0.671,…\n",
      "$ xReboundsAgainst                          \u001b[3m\u001b[38;5;246m<dbl>\u001b[39m\u001b[23m 0.069, 1.780, 1.117, 0.511,…\n",
      "$ xFreezeAgainst                            \u001b[3m\u001b[38;5;246m<dbl>\u001b[39m\u001b[23m 0.164, 4.436, 3.001, 1.194,…\n",
      "$ xPlayStoppedAgainst                       \u001b[3m\u001b[38;5;246m<dbl>\u001b[39m\u001b[23m 0.020, 0.639, 0.406, 0.194,…\n",
      "$ xPlayContinuedInZoneAgainst               \u001b[3m\u001b[38;5;246m<dbl>\u001b[39m\u001b[23m 0.521, 12.626, 7.737, 4.143…\n",
      "$ xPlayContinuedOutsideZoneAgainst          \u001b[3m\u001b[38;5;246m<dbl>\u001b[39m\u001b[23m 0.207, 8.830, 5.946, 2.287,…\n",
      "$ flurryAdjustedxGoalsAgainst               \u001b[3m\u001b[38;5;246m<dbl>\u001b[39m\u001b[23m 0.019, 2.524, 1.633, 0.666,…\n",
      "$ scoreVenueAdjustedxGoalsAgainst           \u001b[3m\u001b[38;5;246m<dbl>\u001b[39m\u001b[23m 0.019, 2.607, 1.711, 0.671,…\n",
      "$ flurryScoreVenueAdjustedxGoalsAgainst     \u001b[3m\u001b[38;5;246m<dbl>\u001b[39m\u001b[23m 0.019, 2.450, 1.559, 0.666,…\n",
      "$ shotsOnGoalAgainst                        \u001b[3m\u001b[38;5;246m<dbl>\u001b[39m\u001b[23m 1, 21, 11, 8, 1, 1, 19, 13,…\n",
      "$ missedShotsAgainst                        \u001b[3m\u001b[38;5;246m<dbl>\u001b[39m\u001b[23m 0, 10, 9, 1, 0, 1, 13, 10, …\n",
      "$ blockedShotAttemptsAgainst                \u001b[3m\u001b[38;5;246m<dbl>\u001b[39m\u001b[23m 0, 6, 5, 1, 0, 1, 12, 9, 2,…\n",
      "$ shotAttemptsAgainst                       \u001b[3m\u001b[38;5;246m<dbl>\u001b[39m\u001b[23m 1, 37, 25, 10, 1, 3, 44, 32…\n",
      "$ goalsAgainst                              \u001b[3m\u001b[38;5;246m<dbl>\u001b[39m\u001b[23m 0, 1, 1, 0, 0, 0, 1, 1, 0, …\n",
      "$ reboundsAgainst                           \u001b[3m\u001b[38;5;246m<dbl>\u001b[39m\u001b[23m 0, 1, 1, 0, 0, 0, 0, 0, 0, …\n",
      "$ reboundGoalsAgainst                       \u001b[3m\u001b[38;5;246m<dbl>\u001b[39m\u001b[23m 0, 0, 0, 0, 0, 0, 0, 0, 0, …\n",
      "$ freezeAgainst                             \u001b[3m\u001b[38;5;246m<dbl>\u001b[39m\u001b[23m 0, 5, 4, 0, 1, 0, 4, 3, 1, …\n",
      "$ playStoppedAgainst                        \u001b[3m\u001b[38;5;246m<dbl>\u001b[39m\u001b[23m 0, 1, 1, 0, 0, 0, 2, 2, 0, …\n",
      "$ playContinuedInZoneAgainst                \u001b[3m\u001b[38;5;246m<dbl>\u001b[39m\u001b[23m 0, 8, 4, 4, 0, 1, 11, 8, 1,…\n",
      "$ playContinuedOutsideZoneAgainst           \u001b[3m\u001b[38;5;246m<dbl>\u001b[39m\u001b[23m 1, 15, 9, 5, 0, 1, 14, 9, 3…\n",
      "$ savedShotsOnGoalAgainst                   \u001b[3m\u001b[38;5;246m<dbl>\u001b[39m\u001b[23m 1, 20, 10, 8, 1, 1, 18, 12,…\n",
      "$ savedUnblockedShotAttemptsAgainst         \u001b[3m\u001b[38;5;246m<dbl>\u001b[39m\u001b[23m 1, 30, 19, 9, 1, 2, 31, 22,…\n",
      "$ penaltiesAgainst                          \u001b[3m\u001b[38;5;246m<dbl>\u001b[39m\u001b[23m 0, 7, 7, 0, 0, 0, 5, 5, 0, …\n",
      "$ penalityMinutesAgainst                    \u001b[3m\u001b[38;5;246m<dbl>\u001b[39m\u001b[23m 0, 14, 14, 0, 0, 0, 13, 13,…\n",
      "$ faceOffsWonAgainst                        \u001b[3m\u001b[38;5;246m<dbl>\u001b[39m\u001b[23m 1, 32, 18, 2, 11, 0, 29, 21…\n",
      "$ hitsAgainst                               \u001b[3m\u001b[38;5;246m<dbl>\u001b[39m\u001b[23m 0, 17, 13, 3, 1, 0, 31, 30,…\n",
      "$ takeawaysAgainst                          \u001b[3m\u001b[38;5;246m<dbl>\u001b[39m\u001b[23m 1, 11, 9, 0, 1, 0, 8, 7, 0,…\n",
      "$ giveawaysAgainst                          \u001b[3m\u001b[38;5;246m<dbl>\u001b[39m\u001b[23m 0, 7, 5, 1, 1, 0, 7, 6, 0, …\n",
      "$ lowDangerShotsAgainst                     \u001b[3m\u001b[38;5;246m<dbl>\u001b[39m\u001b[23m 1, 16, 12, 3, 0, 2, 29, 20,…\n",
      "$ mediumDangerShotsAgainst                  \u001b[3m\u001b[38;5;246m<dbl>\u001b[39m\u001b[23m 0, 12, 6, 6, 0, 0, 3, 3, 0,…\n",
      "$ highDangerShotsAgainst                    \u001b[3m\u001b[38;5;246m<dbl>\u001b[39m\u001b[23m 0, 3, 2, 0, 1, 0, 0, 0, 0, …\n",
      "$ lowDangerxGoalsAgainst                    \u001b[3m\u001b[38;5;246m<dbl>\u001b[39m\u001b[23m 0.019, 0.599, 0.498, 0.082,…\n",
      "$ mediumDangerxGoalsAgainst                 \u001b[3m\u001b[38;5;246m<dbl>\u001b[39m\u001b[23m 0.000, 1.278, 0.689, 0.590,…\n",
      "$ highDangerxGoalsAgainst                   \u001b[3m\u001b[38;5;246m<dbl>\u001b[39m\u001b[23m 0.000, 0.811, 0.606, 0.000,…\n",
      "$ lowDangerGoalsAgainst                     \u001b[3m\u001b[38;5;246m<dbl>\u001b[39m\u001b[23m 0, 1, 1, 0, 0, 0, 0, 0, 0, …\n",
      "$ mediumDangerGoalsAgainst                  \u001b[3m\u001b[38;5;246m<dbl>\u001b[39m\u001b[23m 0, 0, 0, 0, 0, 0, 1, 1, 0, …\n",
      "$ highDangerGoalsAgainst                    \u001b[3m\u001b[38;5;246m<dbl>\u001b[39m\u001b[23m 0, 0, 0, 0, 0, 0, 0, 0, 0, …\n",
      "$ scoreAdjustedShotsAttemptsAgainst         \u001b[3m\u001b[38;5;246m<dbl>\u001b[39m\u001b[23m 1.000, 36.140, 24.140, 10.0…\n",
      "$ unblockedShotAttemptsAgainst              \u001b[3m\u001b[38;5;246m<dbl>\u001b[39m\u001b[23m 1, 31, 20, 9, 1, 2, 32, 23,…\n",
      "$ scoreAdjustedUnblockedShotAttemptsAgainst \u001b[3m\u001b[38;5;246m<dbl>\u001b[39m\u001b[23m 1.000, 30.369, 19.369, 9.00…\n",
      "$ dZoneGiveawaysAgainst                     \u001b[3m\u001b[38;5;246m<dbl>\u001b[39m\u001b[23m 0, 5, 3, 1, 1, 0, 5, 4, 0, …\n",
      "$ xGoalsFromxReboundsOfShotsAgainst         \u001b[3m\u001b[38;5;246m<dbl>\u001b[39m\u001b[23m 0.017, 0.396, 0.237, 0.124,…\n",
      "$ xGoalsFromActualReboundsOfShotsAgainst    \u001b[3m\u001b[38;5;246m<dbl>\u001b[39m\u001b[23m 0.000, 0.168, 0.168, 0.000,…\n",
      "$ reboundxGoalsAgainst                      \u001b[3m\u001b[38;5;246m<dbl>\u001b[39m\u001b[23m 0.000, 0.168, 0.168, 0.000,…\n",
      "$ totalShotCreditAgainst                    \u001b[3m\u001b[38;5;246m<dbl>\u001b[39m\u001b[23m 0.037, 2.917, 1.862, 0.795,…\n",
      "$ scoreAdjustedTotalShotCreditAgainst       \u001b[3m\u001b[38;5;246m<dbl>\u001b[39m\u001b[23m 0.037, 2.833, 1.777, 0.795,…\n",
      "$ scoreFlurryAdjustedTotalShotCreditAgainst \u001b[3m\u001b[38;5;246m<dbl>\u001b[39m\u001b[23m 0.037, 2.714, 1.665, 0.789,…\n",
      "$ playoffGame                               \u001b[3m\u001b[38;5;246m<dbl>\u001b[39m\u001b[23m 0, 0, 0, 0, 0, 0, 0, 0, 0, …\n"
     ]
    }
   ],
   "source": [
    "glimpse(games)"
   ]
  },
  {
   "cell_type": "code",
   "execution_count": null,
   "id": "industrial-bryan",
   "metadata": {},
   "outputs": [],
   "source": []
  }
 ],
 "metadata": {
  "kernelspec": {
   "display_name": "R",
   "language": "R",
   "name": "ir"
  },
  "language_info": {
   "codemirror_mode": "r",
   "file_extension": ".r",
   "mimetype": "text/x-r-source",
   "name": "R",
   "pygments_lexer": "r",
   "version": "4.0.3"
  }
 },
 "nbformat": 4,
 "nbformat_minor": 5
}
